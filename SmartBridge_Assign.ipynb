{
 "cells": [
  {
   "cell_type": "markdown",
   "metadata": {
    "id": "9_Myuxh1Avp0"
   },
   "source": [
    "String Functions in Python\n"
   ]
  },
  {
   "cell_type": "markdown",
   "metadata": {
    "id": "kII29ipzBXwk"
   },
   "source": [
    "1. capitalize()\n",
    "\n",
    "    The capitalize() method returns    string where the first character is upper case.\n",
    "\n",
    "    Syntax : string.capitalize()"
   ]
  },
  {
   "cell_type": "code",
   "execution_count": 1,
   "metadata": {
    "colab": {
     "base_uri": "https://localhost:8080/"
    },
    "id": "rcHTLRzFAnCP",
    "outputId": "4ec5d1ec-6d98-486e-bdac-5a4e46434de1"
   },
   "outputs": [
    {
     "name": "stdout",
     "output_type": "stream",
     "text": [
      "Andrew\n"
     ]
    }
   ],
   "source": [
    "txt = \"Andrew\"\n",
    "x = txt.capitalize()\n",
    "print(x)"
   ]
  },
  {
   "cell_type": "markdown",
   "metadata": {
    "id": "d-BG7TmHB0AM"
   },
   "source": [
    "2. casefold()\n",
    "  \n",
    "  The casefold() method returns a string where all the characters are lower case.\n",
    "\n",
    "  Syntax : string.casefold()\n"
   ]
  },
  {
   "cell_type": "code",
   "execution_count": 2,
   "metadata": {
    "colab": {
     "base_uri": "https://localhost:8080/"
    },
    "id": "4iG3qgibDQ4q",
    "outputId": "7db15ad2-8767-4963-fb8e-fe60fea4565b"
   },
   "outputs": [
    {
     "name": "stdout",
     "output_type": "stream",
     "text": [
      "andrew\n"
     ]
    }
   ],
   "source": [
    "txt = \"ANDREW\"\n",
    "x = txt.casefold()\n",
    "print(x)"
   ]
  },
  {
   "cell_type": "markdown",
   "metadata": {
    "id": "OxwnTMcjDdoP"
   },
   "source": [
    "3. center()\n",
    "\n",
    "  The center() method will center align the string, using a specified character (space is default) as the fill character.\n",
    "\n",
    "  Syntax : string.center(length, character)\n"
   ]
  },
  {
   "cell_type": "code",
   "execution_count": 4,
   "metadata": {
    "colab": {
     "base_uri": "https://localhost:8080/"
    },
    "id": "cuzDkZtADsUS",
    "outputId": "990fa3b0-612c-4602-c8d3-fcb70eb93383"
   },
   "outputs": [
    {
     "name": "stdout",
     "output_type": "stream",
     "text": [
      "       banana       \n"
     ]
    }
   ],
   "source": [
    "txt = \"banana\"\n",
    "x = txt.center(20)\n",
    "print(x)"
   ]
  },
  {
   "cell_type": "markdown",
   "metadata": {
    "id": "9BObpuLOEaoJ"
   },
   "source": [
    "4.  count()\n",
    "    The count() method returns the number of times a specified value appears in the string.\n",
    "\n",
    "    Syntax : string.count(value, start, end)\n",
    "    "
   ]
  },
  {
   "cell_type": "code",
   "execution_count": 6,
   "metadata": {
    "colab": {
     "base_uri": "https://localhost:8080/"
    },
    "id": "L7E0SFzFD_YL",
    "outputId": "46aecc14-bcef-4e58-a113-d516d871c470"
   },
   "outputs": [
    {
     "name": "stdout",
     "output_type": "stream",
     "text": [
      "1\n"
     ]
    }
   ],
   "source": [
    "txt = \"India is my country\"\n",
    "x = txt.count(\"country\")  \n",
    "print(x)"
   ]
  },
  {
   "cell_type": "markdown",
   "metadata": {
    "id": "0byoHymBGSA-"
   },
   "source": [
    "5. encode()\n",
    "  The encode() method encodes the string, using the specified encoding. If no encoding is specified, UTF-8 will be used.\n",
    "\n",
    "  Syntax : string.encode(encoding=encoding, errors=errors)"
   ]
  },
  {
   "cell_type": "code",
   "execution_count": 8,
   "metadata": {
    "colab": {
     "base_uri": "https://localhost:8080/"
    },
    "id": "9teYePo3FYJG",
    "outputId": "184498ec-941e-4570-a9eb-a1ddcf574668"
   },
   "outputs": [
    {
     "name": "stdout",
     "output_type": "stream",
     "text": [
      "b'SmartBridge Training'\n"
     ]
    }
   ],
   "source": [
    "txt = \"SmartBridge Training\"\n",
    "x = txt.encode(encoding=\"ascii\",errors=\"ignore\")\n",
    "print(x)"
   ]
  },
  {
   "cell_type": "markdown",
   "metadata": {
    "id": "6oiaoQzqGlTs"
   },
   "source": [
    "6. zfile()\n",
    "\n",
    "The zfill() method adds zeros (0) at the beginning of the string, until it reaches the specified length.\n",
    "\n",
    "Syntax : string.zfill(len)\n"
   ]
  },
  {
   "cell_type": "code",
   "execution_count": 9,
   "metadata": {
    "colab": {
     "base_uri": "https://localhost:8080/"
    },
    "id": "YBJwI-RgGdFH",
    "outputId": "36c9beb6-1df7-4932-d670-7116091474a5"
   },
   "outputs": [
    {
     "name": "stdout",
     "output_type": "stream",
     "text": [
      "0000000050\n"
     ]
    }
   ],
   "source": [
    "txt = \"50\"\n",
    "x = txt.zfill(10)\n",
    "print(x)"
   ]
  },
  {
   "cell_type": "markdown",
   "metadata": {
    "id": "9xXkjKB_G2Bn"
   },
   "source": [
    "7. upper()\n",
    "\n",
    "    The upper() method returns a string where all characters are in upper case.\n",
    "\n",
    " Syntax : string.upper()"
   ]
  },
  {
   "cell_type": "code",
   "execution_count": 10,
   "metadata": {
    "colab": {
     "base_uri": "https://localhost:8080/"
    },
    "id": "Jh3TeZfEGwHj",
    "outputId": "76af5482-0981-4002-9d1c-d5fb6fa2fb84"
   },
   "outputs": [
    {
     "name": "stdout",
     "output_type": "stream",
     "text": [
      "HELLO MY FRIENDS\n"
     ]
    }
   ],
   "source": [
    "txt = \"Hello my friends\"\n",
    "x = txt.upper()\n",
    "print(x)"
   ]
  },
  {
   "cell_type": "markdown",
   "metadata": {
    "id": "ssNN-z0rI7uZ"
   },
   "source": [
    "8.  join()\n",
    "\n",
    "    The join() method takes all items in an iterable and joins them into one string.\n",
    "\n",
    "A string must be specified as the separator.\n",
    "\n",
    "Syntax : string.join(iterable)"
   ]
  },
  {
   "cell_type": "code",
   "execution_count": 3,
   "metadata": {
    "colab": {
     "base_uri": "https://localhost:8080/"
    },
    "id": "iTkvhHYYHLaz",
    "outputId": "f780c264-d587-47cc-fbf8-68e0c800bbf4"
   },
   "outputs": [
    {
     "name": "stdout",
     "output_type": "stream",
     "text": [
      "Andy,Samuel,Vrun\n"
     ]
    }
   ],
   "source": [
    "myTuple = (\"Andy\", \"Samuel\", \"Vrun\")\n",
    "\n",
    "x = \",\".join(myTuple)\n",
    "\n",
    "print(x)"
   ]
  },
  {
   "cell_type": "markdown",
   "metadata": {
    "id": "HInh-LuFJQ5R"
   },
   "source": [
    "9. startswith()\n",
    "\n",
    "    The startswith() method returns True if the string starts with the specified value, otherwise False.\n",
    "\n",
    "    Syntax : string.startswith(value, start, end)\n"
   ]
  },
  {
   "cell_type": "code",
   "execution_count": 14,
   "metadata": {
    "colab": {
     "base_uri": "https://localhost:8080/"
    },
    "id": "7s1--21zJZ3a",
    "outputId": "16ee38f6-d60c-4987-eb58-adb25cede78e"
   },
   "outputs": [
    {
     "name": "stdout",
     "output_type": "stream",
     "text": [
      "True\n"
     ]
    }
   ],
   "source": [
    "txt = \"Indian has invented the zero\"\n",
    "\n",
    "x = txt.startswith(\"Indian\")\n",
    "\n",
    "print(x)"
   ]
  },
  {
   "cell_type": "markdown",
   "metadata": {
    "id": "KwRDRLqTKUE9"
   },
   "source": [
    "10. find()\n",
    "\n",
    "    The find() method finds the first occurrence of the specified value.\n",
    "\n",
    "    The find() method returns -1 if the value is not found.\n",
    "\n",
    "\n",
    "  Syntax : string.find(value, start, end) \n"
   ]
  },
  {
   "cell_type": "code",
   "execution_count": 15,
   "metadata": {
    "colab": {
     "base_uri": "https://localhost:8080/"
    },
    "id": "FVy4Pg02KqV0",
    "outputId": "b4969a85-610a-48d5-cccd-6ac180c10dbc"
   },
   "outputs": [
    {
     "name": "stdout",
     "output_type": "stream",
     "text": [
      "1\n"
     ]
    }
   ],
   "source": [
    "txt = \"Hello, welcome to my world.\"\n",
    "x = txt.find(\"e\")\n",
    "print(x)"
   ]
  }
 ],
 "metadata": {
  "colab": {
   "name": "SmartBridge_Assign",
   "provenance": []
  },
  "kernelspec": {
   "display_name": "Python 3",
   "language": "python",
   "name": "python3"
  },
  "language_info": {
   "codemirror_mode": {
    "name": "ipython",
    "version": 3
   },
   "file_extension": ".py",
   "mimetype": "text/x-python",
   "name": "python",
   "nbconvert_exporter": "python",
   "pygments_lexer": "ipython3",
   "version": "3.7.3"
  }
 },
 "nbformat": 4,
 "nbformat_minor": 1
}
